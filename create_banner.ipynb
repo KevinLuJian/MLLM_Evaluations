{
 "cells": [
  {
   "cell_type": "code",
   "execution_count": 3,
   "metadata": {},
   "outputs": [
    {
     "name": "stdout",
     "output_type": "stream",
     "text": [
      "Banner created successfully!\n"
     ]
    }
   ],
   "source": [
    "from PIL import Image, ImageDraw, ImageFont, ImageOps\n",
    "import matplotlib.font_manager as fm\n",
    "\n",
    "# Define the paths to the images\n",
    "image_paths = [\n",
    "    \"static/images/banner/DVQA_example.png\",\n",
    "    \"static/images/banner/tallyqa-simple.png\",\n",
    "    \"static/images/banner/vqd.png\"\n",
    "]\n",
    "\n",
    "# Define the labels for each image\n",
    "labels = [\"DVQA\", \"TallyQA\", \"VQD\"]\n",
    "\n",
    "# Load the images\n",
    "images = [Image.open(path) for path in image_paths]\n",
    "\n",
    "# Define the target size for resizing (width, height)\n",
    "target_size = (300, 300)  # Adjust this size as needed\n",
    "\n",
    "# Resize images to the target size\n",
    "images = [image.resize(target_size, Image.LANCZOS) for image in images]\n",
    "\n",
    "# Ensure all images have a white background\n",
    "images = [ImageOps.fit(image, target_size, Image.LANCZOS) for image in images]\n",
    "images = [Image.alpha_composite(Image.new('RGBA', image.size, (255, 255, 255, 255)), image.convert('RGBA')) for image in images]\n",
    "\n",
    "# Define spacing and font settings\n",
    "spacing = 32\n",
    "font_path = fm.findfont(fm.FontProperties(family='cmr10'))  # Find the path to the Computer Modern font\n",
    "font_size = 28\n",
    "\n",
    "# Scale factor for high resolution\n",
    "scale_factor = 3\n",
    "\n",
    "# Calculate the width and height for the banner\n",
    "banner_width = sum(image.width for image in images) + (len(images) - 1) * spacing\n",
    "max_height = target_size[1] + font_size + 60  # 60 pixels padding for text and spacing\n",
    "\n",
    "# Create a new image with white background at a larger size\n",
    "banner_large = Image.new('RGB', (banner_width * scale_factor, max_height * scale_factor), (255, 255, 255))\n",
    "draw_large = ImageDraw.Draw(banner_large)\n",
    "\n",
    "# Place the images and labels on the banner at high resolution\n",
    "current_x = 0\n",
    "for image, label in zip(images, labels):\n",
    "    resized_image = image.resize((image.width * scale_factor, image.height * scale_factor), Image.LANCZOS)\n",
    "    banner_large.paste(resized_image, (current_x * scale_factor, 0))\n",
    "    scaled_font_size = font_size * scale_factor\n",
    "    scaled_font = ImageFont.truetype(font_path, scaled_font_size)\n",
    "    text_bbox = draw_large.textbbox((0, 0), label, font=scaled_font)\n",
    "    text_width = text_bbox[2] - text_bbox[0]\n",
    "    text_height = text_bbox[3] - text_bbox[1]\n",
    "    text_x = (current_x + (image.width - text_width // scale_factor) // 2) * scale_factor\n",
    "    text_y = (image.height + 20) * scale_factor  # Increased spacing for better appearance\n",
    "    draw_large.text((text_x, text_y), label, fill=\"black\", font=scaled_font)\n",
    "    current_x += image.width + spacing\n",
    "\n",
    "# Scale down the banner to the original size while maintaining high resolution\n",
    "#banner_high_res = banner_large.resize((banner_width, max_height), Image.LANCZOS)\n",
    "\n",
    "# Save the high-resolution banner image\n",
    "output_path = \"static/images/banner/banner_output_high_res.png\"\n",
    "banner_large.save(output_path, dpi=(900, 900))  # Ensuring the highest clarity\n",
    "banner_large.show()  # This will open the banner image\n",
    "\n",
    "print(\"Banner created successfully!\")"
   ]
  },
  {
   "cell_type": "code",
   "execution_count": null,
   "metadata": {},
   "outputs": [],
   "source": []
  }
 ],
 "metadata": {
  "kernelspec": {
   "display_name": "basic",
   "language": "python",
   "name": "python3"
  },
  "language_info": {
   "codemirror_mode": {
    "name": "ipython",
    "version": 3
   },
   "file_extension": ".py",
   "mimetype": "text/x-python",
   "name": "python",
   "nbconvert_exporter": "python",
   "pygments_lexer": "ipython3",
   "version": "3.10.12"
  }
 },
 "nbformat": 4,
 "nbformat_minor": 2
}
